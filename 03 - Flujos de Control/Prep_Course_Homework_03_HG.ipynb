{
 "cells": [
  {
   "cell_type": "markdown",
   "metadata": {},
   "source": [
    "## Flujos de Control\n"
   ]
  },
  {
   "attachments": {},
   "cell_type": "markdown",
   "metadata": {},
   "source": [
    "1) Crear una variable que contenga un elemento del conjunto de números enteros y luego imprimir por pantalla si es mayor o menor a cero"
   ]
  },
  {
   "cell_type": "code",
   "execution_count": 4,
   "metadata": {},
   "outputs": [
    {
     "name": "stdout",
     "output_type": "stream",
     "text": [
      "Es cero\n"
     ]
    }
   ],
   "source": [
    "x = 0\n",
    "if (x > 0):\n",
    "    print(\"Es mayor que cero\")\n",
    "elif (x < 0):\n",
    "    print(\"Es menor que cero\")\n",
    "else:\n",
    "    print(\"Es cero\")\n"
   ]
  },
  {
   "attachments": {},
   "cell_type": "markdown",
   "metadata": {},
   "source": [
    "2) Crear dos variables y un condicional que informe si son del mismo tipo de dato"
   ]
  },
  {
   "cell_type": "code",
   "execution_count": 6,
   "metadata": {},
   "outputs": [
    {
     "name": "stdout",
     "output_type": "stream",
     "text": [
      "Son diferetes tipos de datos\n"
     ]
    }
   ],
   "source": [
    "num1 = 1\n",
    "num2 = \"dos\"\n",
    "if (type(num1) == type(num2)):\n",
    "    print(\"Son del mismo tipo de datos\")\n",
    "else:\n",
    "    print(\"Son diferetes tipos de datos\")"
   ]
  },
  {
   "attachments": {},
   "cell_type": "markdown",
   "metadata": {},
   "source": [
    "3) Para los valores enteros del 1 al 20, imprimir por pantalla si es par o impar\n"
   ]
  },
  {
   "cell_type": "code",
   "execution_count": 11,
   "metadata": {},
   "outputs": [
    {
     "name": "stdout",
     "output_type": "stream",
     "text": [
      "Es impar: 1\n",
      "Es par: 2\n",
      "Es impar: 3\n",
      "Es par: 4\n",
      "Es impar: 5\n",
      "Es par: 6\n",
      "Es impar: 7\n",
      "Es par: 8\n",
      "Es impar: 9\n",
      "Es par: 10\n",
      "Es impar: 11\n",
      "Es par: 12\n",
      "Es impar: 13\n",
      "Es par: 14\n",
      "Es impar: 15\n",
      "Es par: 16\n",
      "Es impar: 17\n",
      "Es par: 18\n",
      "Es impar: 19\n",
      "Es par: 20\n"
     ]
    }
   ],
   "source": [
    "for value in range(1, 21):\n",
    "    if (value % 2 == 0):\n",
    "        print(\"Es par:\", value)\n",
    "    else:\n",
    "        print(\"Es impar:\", value)"
   ]
  },
  {
   "attachments": {},
   "cell_type": "markdown",
   "metadata": {},
   "source": [
    "4) En un ciclo for mostrar para los valores entre 0 y 5 el resultado de elevarlo a la potencia igual a 3"
   ]
  },
  {
   "cell_type": "code",
   "execution_count": 12,
   "metadata": {},
   "outputs": [
    {
     "name": "stdout",
     "output_type": "stream",
     "text": [
      "0\n",
      "1\n",
      "8\n",
      "27\n",
      "64\n",
      "125\n"
     ]
    }
   ],
   "source": [
    "for value in range(6):\n",
    "    print(value**3)"
   ]
  },
  {
   "attachments": {},
   "cell_type": "markdown",
   "metadata": {},
   "source": [
    "5) Crear una variable que contenga un número entero y realizar un ciclo for la misma cantidad de ciclos"
   ]
  },
  {
   "cell_type": "code",
   "execution_count": 13,
   "metadata": {},
   "outputs": [
    {
     "name": "stdout",
     "output_type": "stream",
     "text": [
      "0\n",
      "1\n",
      "2\n",
      "3\n"
     ]
    }
   ],
   "source": [
    "ne = 4\n",
    "for value in range(4):\n",
    "    print(value)"
   ]
  },
  {
   "attachments": {},
   "cell_type": "markdown",
   "metadata": {},
   "source": [
    "6) Utilizar un ciclo while para realizar el factorial de un número guardado en una variable, sólo si la variable contiene un número entero mayor a 0"
   ]
  },
  {
   "cell_type": "code",
   "execution_count": 17,
   "metadata": {},
   "outputs": [
    {
     "name": "stdout",
     "output_type": "stream",
     "text": [
      "24\n"
     ]
    }
   ],
   "source": [
    "nf = 4\n",
    "fact = 1\n",
    "while (nf > 0):\n",
    "    fact = nf*fact\n",
    "    nf -= 1\n",
    "print(fact)\n",
    "\n"
   ]
  },
  {
   "attachments": {},
   "cell_type": "markdown",
   "metadata": {},
   "source": [
    "7) Crear un ciclo for dentro de un ciclo while"
   ]
  },
  {
   "cell_type": "code",
   "execution_count": 18,
   "metadata": {},
   "outputs": [
    {
     "name": "stdout",
     "output_type": "stream",
     "text": [
      "0\n",
      "1\n",
      "2\n",
      "0\n",
      "1\n",
      "0\n",
      "FIN\n"
     ]
    }
   ],
   "source": [
    "n =3\n",
    "while (n > 0):\n",
    "    for value in range(n):\n",
    "        print(value)\n",
    "    n -= 1\n",
    "print(\"FIN\")\n"
   ]
  },
  {
   "attachments": {},
   "cell_type": "markdown",
   "metadata": {},
   "source": [
    "8) Crear un ciclo while dentro de un ciclo for"
   ]
  },
  {
   "cell_type": "code",
   "execution_count": 2,
   "metadata": {},
   "outputs": [
    {
     "name": "stdout",
     "output_type": "stream",
     "text": [
      "0\n",
      "1\n",
      "2\n",
      "3\n",
      "1\n",
      "2\n",
      "3\n",
      "2\n",
      "3\n",
      "FIN\n"
     ]
    }
   ],
   "source": [
    "x = 3\n",
    "for y in range(x):\n",
    "    while (y <= 3):\n",
    "        print(y)\n",
    "        y += 1\n",
    "print(\"FIN\")"
   ]
  },
  {
   "attachments": {},
   "cell_type": "markdown",
   "metadata": {},
   "source": [
    "9) Imprimir los números primos existentes entre 0 y 30"
   ]
  },
  {
   "cell_type": "code",
   "execution_count": 42,
   "metadata": {},
   "outputs": [
    {
     "name": "stdout",
     "output_type": "stream",
     "text": [
      "2\n",
      "3\n",
      "5\n",
      "7\n",
      "11\n",
      "13\n",
      "17\n",
      "19\n",
      "23\n",
      "29\n",
      "406\n"
     ]
    }
   ],
   "source": [
    "cantidad_de_ciclos_sin_breack = 0\n",
    "limite = 2\n",
    "while limite < 31:\n",
    "  valor= range(2, limite)\n",
    "  contador = 0\n",
    "  for n in valor:\n",
    "    cantidad_de_ciclos_sin_breack += 1\n",
    "    if limite % n == 0:\n",
    "      contador +=1      \n",
    "  if contador == 0 :\n",
    "    print(limite)\n",
    "  limite += 1\n",
    "print(cantidad_de_ciclos_sin_breack)"
   ]
  },
  {
   "attachments": {},
   "cell_type": "markdown",
   "metadata": {},
   "source": [
    "10) ¿Se puede mejorar el proceso del punto 9? Utilizar las sentencias break y/ó continue para tal fin"
   ]
  },
  {
   "cell_type": "code",
   "execution_count": 43,
   "metadata": {},
   "outputs": [
    {
     "name": "stdout",
     "output_type": "stream",
     "text": [
      "2\n",
      "3\n",
      "5\n",
      "7\n",
      "11\n",
      "13\n",
      "17\n",
      "19\n",
      "23\n",
      "29\n",
      "0.33251231527093594\n"
     ]
    }
   ],
   "source": [
    "cantidad_de_ciclos = 0\n",
    "limite = 2\n",
    "while limite < 31:\n",
    "  valor= range(2, limite)\n",
    "  contador = 0\n",
    "  for n in valor:\n",
    "    cantidad_de_ciclos += 1\n",
    "    if limite % n == 0:\n",
    "      contador +=1 \n",
    "      break\n",
    "  if contador == 0 :\n",
    "    print(limite)\n",
    "  limite += 1\n",
    "print(cantidad_de_ciclos/cantidad_de_ciclos_sin_breack)"
   ]
  },
  {
   "attachments": {},
   "cell_type": "markdown",
   "metadata": {},
   "source": [
    "11) En los puntos 9 y 10, se diseño un código que encuentra números primos y además se lo optimizó. ¿Es posible saber en qué medida se optimizó?"
   ]
  },
  {
   "cell_type": "code",
   "execution_count": 33,
   "metadata": {},
   "outputs": [
    {
     "data": {
      "text/plain": [
       "'COn breack son menos ciclos, ver anteriores'"
      ]
     },
     "execution_count": 33,
     "metadata": {},
     "output_type": "execute_result"
    }
   ],
   "source": [
    "\"\"\"COn breack son menos ciclos, ver anteriores\"\"\""
   ]
  },
  {
   "attachments": {},
   "cell_type": "markdown",
   "metadata": {},
   "source": [
    "12) Si la cantidad de números que se evalúa es mayor a treinta, esa optimización crece?"
   ]
  },
  {
   "cell_type": "code",
   "execution_count": 40,
   "metadata": {},
   "outputs": [
    {
     "name": "stdout",
     "output_type": "stream",
     "text": [
      "2\n",
      "3\n",
      "5\n",
      "7\n",
      "11\n",
      "13\n",
      "17\n",
      "19\n",
      "23\n",
      "29\n",
      "31\n",
      "37\n",
      "41\n",
      "43\n",
      "47\n",
      "1176\n"
     ]
    }
   ],
   "source": [
    "cantidad_de_ciclos_sin_breack = 0\n",
    "limite = 2\n",
    "while limite < 51:\n",
    "  valor= range(2, limite)\n",
    "  contador = 0\n",
    "  for n in valor:\n",
    "    cantidad_de_ciclos_sin_breack += 1\n",
    "    if limite % n == 0:\n",
    "      contador +=1      \n",
    "  if contador == 0 :\n",
    "    print(limite)\n",
    "  limite += 1\n",
    "print(cantidad_de_ciclos_sin_breack)"
   ]
  },
  {
   "cell_type": "code",
   "execution_count": 41,
   "metadata": {},
   "outputs": [
    {
     "name": "stdout",
     "output_type": "stream",
     "text": [
      "2\n",
      "3\n",
      "5\n",
      "7\n",
      "11\n",
      "13\n",
      "17\n",
      "19\n",
      "23\n",
      "29\n",
      "31\n",
      "37\n",
      "41\n",
      "43\n",
      "47\n",
      "0.2976190476190476\n"
     ]
    }
   ],
   "source": [
    "cantidad_de_ciclos = 0\n",
    "limite = 2\n",
    "while limite < 51:\n",
    "  valor= range(2, limite)\n",
    "  contador = 0\n",
    "  for n in valor:\n",
    "    cantidad_de_ciclos += 1\n",
    "    if limite % n == 0:\n",
    "      contador +=1\n",
    "      break      \n",
    "  if contador == 0 :\n",
    "    print(limite)\n",
    "  limite += 1\n",
    "print(cantidad_de_ciclos/cantidad_de_ciclos_sin_breack)"
   ]
  },
  {
   "attachments": {},
   "cell_type": "markdown",
   "metadata": {},
   "source": [
    "\n",
    "13) Aplicando continue, armar un ciclo while que solo imprima los valores divisibles por 12, dentro del rango de números de 100 a 300"
   ]
  },
  {
   "attachments": {},
   "cell_type": "markdown",
   "metadata": {},
   "source": [
    "14) Utilizar la función **input()** que permite hacer ingresos por teclado, para encontrar números primos y dar la opción al usario de buscar el siguiente"
   ]
  },
  {
   "attachments": {},
   "cell_type": "markdown",
   "metadata": {},
   "source": [
    "15) Crear un ciclo while que encuentre dentro del rango de 100 a 300 el primer número divisible por 3 y además múltiplo de 6"
   ]
  }
 ],
 "metadata": {
  "kernelspec": {
   "display_name": "Python 3",
   "language": "python",
   "name": "python3"
  },
  "language_info": {
   "codemirror_mode": {
    "name": "ipython",
    "version": 3
   },
   "file_extension": ".py",
   "mimetype": "text/x-python",
   "name": "python",
   "nbconvert_exporter": "python",
   "pygments_lexer": "ipython3",
   "version": "3.10.4"
  },
  "orig_nbformat": 4,
  "vscode": {
   "interpreter": {
    "hash": "3ad933181bd8a04b432d3370b9dc3b0662ad032c4dfaa4e4f1596c548f763858"
   }
  }
 },
 "nbformat": 4,
 "nbformat_minor": 2
}
